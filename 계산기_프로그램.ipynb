{
  "nbformat": 4,
  "nbformat_minor": 0,
  "metadata": {
    "colab": {
      "provenance": [],
      "authorship_tag": "ABX9TyNO0TDNryuq8FL80K598tB7",
      "include_colab_link": true
    },
    "kernelspec": {
      "name": "python3",
      "display_name": "Python 3"
    },
    "language_info": {
      "name": "python"
    }
  },
  "cells": [
    {
      "cell_type": "markdown",
      "metadata": {
        "id": "view-in-github",
        "colab_type": "text"
      },
      "source": [
        "<a href=\"https://colab.research.google.com/github/25d087/class01/blob/main/%EA%B3%84%EC%82%B0%EA%B8%B0_%ED%94%84%EB%A1%9C%EA%B7%B8%EB%9E%A8.ipynb\" target=\"_parent\"><img src=\"https://colab.research.google.com/assets/colab-badge.svg\" alt=\"Open In Colab\"/></a>"
      ]
    },
    {
      "cell_type": "code",
      "execution_count": null,
      "metadata": {
        "colab": {
          "base_uri": "https://localhost:8080/"
        },
        "id": "26S3JUtCRg5G",
        "outputId": "b66360f8-9c17-4bbc-ac35-e90c0dfd0ed1"
      },
      "outputs": [
        {
          "output_type": "stream",
          "name": "stdout",
          "text": [
            "\n",
            "수행할 작업을 선택하세요:\n",
            "1. 더하기\n",
            "2. 빼기\n",
            "3. 곱하기\n",
            "4. 나누기\n",
            "5. 종료\n"
          ]
        }
      ],
      "source": [
        "# prompt: 엔트리에 있는 것처럼 계산기 프로그램을 만들어줘 코드를 설명해줘 더하기, 빼기, 나누기, 곱하기, 종료를 선택하게 만들어줘\n",
        "\n",
        "def calculator():\n",
        "  \"\"\"\n",
        "  이 함수는 간단한 계산기 프로그램을 실행합니다.\n",
        "  덧셈, 뺄셈, 곱셈, 나눗셈 연산을 지원하며 사용자가 종료를 선택할 때까지 반복합니다.\n",
        "  \"\"\"\n",
        "  while True:\n",
        "    # 사용자에게 수행할 작업을 선택하도록 요청합니다.\n",
        "    print(\"\\n수행할 작업을 선택하세요:\")\n",
        "    print(\"1. 더하기\")\n",
        "    print(\"2. 빼기\")\n",
        "    print(\"3. 곱하기\")\n",
        "    print(\"4. 나누기\")\n",
        "    print(\"5. 종료\")\n",
        "\n",
        "    choice = input(\"선택(1/2/3/4/5): \")\n",
        "\n",
        "    # 종료 옵션을 선택한 경우 루프를 종료합니다.\n",
        "    if choice == '5':\n",
        "      print(\"계산기를 종료합니다.\")\n",
        "      break\n",
        "\n",
        "    # 유효한 선택인지 확인합니다.\n",
        "    if choice in ('1', '2', '3', '4'):\n",
        "      try:\n",
        "        # 두 개의 숫자를 입력받습니다.\n",
        "        num1 = float(input(\"첫 번째 숫자를 입력하세요: \"))\n",
        "        num2 = float(input(\"두 번째 숫자를 입력하세요: \"))\n",
        "\n",
        "        # 사용자의 선택에 따라 해당 연산을 수행합니다.\n",
        "        if choice == '1':\n",
        "          print(num1, \"+\", num2, \"=\", num1 + num2)\n",
        "\n",
        "        elif choice == '2':\n",
        "          print(num1, \"-\", num2, \"=\", num1 - num2)\n",
        "\n",
        "        elif choice == '3':\n",
        "          print(num1, \"*\", num2, \"=\", num1 * num2)\n",
        "\n",
        "        elif choice == '4':\n",
        "          # 나눗셈의 경우 0으로 나누는 경우를 처리합니다.\n",
        "          if num2 == 0:\n",
        "            print(\"오류: 0으로 나눌 수 없습니다.\")\n",
        "          else:\n",
        "            print(num1, \"/\", num2, \"=\", num1 / num2)\n",
        "\n",
        "      except ValueError:\n",
        "        # 숫자가 아닌 입력을 처리합니다.\n",
        "        print(\"잘못된 입력입니다. 숫자를 입력해주세요.\")\n",
        "\n",
        "    else:\n",
        "      # 유효하지 않은 선택을 처리합니다.\n",
        "      print(\"잘못된 선택입니다. 1, 2, 3, 4, 5 중 하나를 선택해주세요.\")\n",
        "\n",
        "# 계산기 함수를 호출하여 프로그램을 시작합니다.\n",
        "calculator()\n"
      ]
    }
  ]
}