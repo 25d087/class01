{
  "nbformat": 4,
  "nbformat_minor": 0,
  "metadata": {
    "colab": {
      "provenance": [],
      "authorship_tag": "ABX9TyMUUjHUzXcVmfKc1/ZS0c66",
      "include_colab_link": true
    },
    "kernelspec": {
      "name": "python3",
      "display_name": "Python 3"
    },
    "language_info": {
      "name": "python"
    }
  },
  "cells": [
    {
      "cell_type": "markdown",
      "metadata": {
        "id": "view-in-github",
        "colab_type": "text"
      },
      "source": [
        "<a href=\"https://colab.research.google.com/github/25d087/class01/blob/main/%EB%8F%99%EC%83%9D%EC%9D%84_%EC%9C%84%ED%95%9C_%EB%8D%A7%EC%85%88%EA%B2%8C%EC%9E%84.ipynb\" target=\"_parent\"><img src=\"https://colab.research.google.com/assets/colab-badge.svg\" alt=\"Open In Colab\"/></a>"
      ]
    },
    {
      "cell_type": "code",
      "execution_count": null,
      "metadata": {
        "colab": {
          "base_uri": "https://localhost:8080/"
        },
        "id": "nsisNrGqWzYk",
        "outputId": "3a226f37-ae18-47a9-8307-a00167ad5f33"
      },
      "outputs": [
        {
          "output_type": "stream",
          "name": "stdout",
          "text": [
            "2 + 2 = ?\n",
            "정답을 입력하세요: 4\n",
            "정답입니다!\n"
          ]
        }
      ],
      "source": [
        "# prompt: 1학년 수준에 맞게 간단한 덧셈게임 만들어줘. if, while, for을 빼고 만들어줘. 무한으로 할 수 있게 해줘 그만하고 싶을 땐 그만이라고 말하게 해줘 문제를 풀고 한번씩 \"그만 할래?\"라고 물어봐줘\n",
        "\n",
        "import random\n",
        "\n",
        "while True:\n",
        "  number1 = random.randint(1, 10)\n",
        "  number2 = random.randint(1, 10)\n",
        "  answer = number1 + number2\n",
        "\n",
        "  print(f\"{number1} + {number2} = ?\")\n",
        "  user_answer = input(\"정답을 입력하세요: \")\n",
        "\n",
        "  if user_answer == \"그만\":\n",
        "    print(\"게임을 종료합니다.\")\n",
        "    break\n",
        "\n",
        "  try:\n",
        "    user_answer = int(user_answer)\n",
        "    if user_answer == answer:\n",
        "      print(\"정답입니다!\")\n",
        "    else:\n",
        "      print(f\"틀렸습니다. 정답은 {answer}입니다.\")\n",
        "  except ValueError:\n",
        "    print(\"숫자를 입력해주세요.\")\n",
        "\n",
        "  cont = input(\"그만 할래? \")\n",
        "  if cont.lower() == \"그만\":\n",
        "      break\n"
      ]
    }
  ]
}