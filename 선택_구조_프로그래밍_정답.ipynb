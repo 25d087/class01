{
  "nbformat": 4,
  "nbformat_minor": 0,
  "metadata": {
    "colab": {
      "provenance": [],
      "authorship_tag": "ABX9TyMp1nPcpuz5uLu5JYyV8lLV",
      "include_colab_link": true
    },
    "kernelspec": {
      "name": "python3",
      "display_name": "Python 3"
    },
    "language_info": {
      "name": "python"
    }
  },
  "cells": [
    {
      "cell_type": "markdown",
      "metadata": {
        "id": "view-in-github",
        "colab_type": "text"
      },
      "source": [
        "<a href=\"https://colab.research.google.com/github/25d087/class01/blob/main/%EC%84%A0%ED%83%9D_%EA%B5%AC%EC%A1%B0_%ED%94%84%EB%A1%9C%EA%B7%B8%EB%9E%98%EB%B0%8D_%EC%A0%95%EB%8B%B5.ipynb\" target=\"_parent\"><img src=\"https://colab.research.google.com/assets/colab-badge.svg\" alt=\"Open In Colab\"/></a>"
      ]
    },
    {
      "cell_type": "code",
      "execution_count": 1,
      "metadata": {
        "colab": {
          "base_uri": "https://localhost:8080/"
        },
        "id": "wsws9bwcsz2g",
        "outputId": "e5a48d01-34d9-4505-da3a-3a01ef5f3a25"
      },
      "outputs": [
        {
          "output_type": "stream",
          "name": "stdout",
          "text": [
            "Final position:\n",
            "R . . . .\n",
            ". . . . .\n",
            ". . . . .\n",
            ". . . . .\n",
            ". . . . .\n",
            "----------\n"
          ]
        }
      ],
      "source": [
        "# prompt: 로봇이 좌표에 따라 움직이는 게임을 만들어줘. 첫번째로 위로 한칸, 두번째로 오른쪽으로 한칸, 세번째로 아래쪽으로 한칸, 마지막으로 왼쪽으로 한칸 움직이는 코드를 작성해줘이걸 그림으로 표현해줘 좌표를 움직일 때마다 그림을 새로 그려줘\n",
        "\n",
        "from IPython.display import display, clear_output\n",
        "import time\n",
        "\n",
        "# Initialize robot position and grid size\n",
        "x, y = 0, 0\n",
        "grid_size = 5  # Define the size of the visible grid\n",
        "\n",
        "def draw_grid(robot_x, robot_y, size):\n",
        "  \"\"\"Draws the grid with the robot's position.\"\"\"\n",
        "  grid = [['.' for _ in range(size)] for _ in range(size)]\n",
        "\n",
        "  # Adjust robot coordinates to be within the visible grid\n",
        "  display_x = robot_x\n",
        "  display_y = robot_y\n",
        "\n",
        "  if 0 <= display_x < size and 0 <= display_y < size:\n",
        "      grid[display_y][display_x] = 'R'\n",
        "\n",
        "  for row in grid:\n",
        "    print(' '.join(row))\n",
        "  print(\"-\" * (size * 2)) # Separator for clarity\n",
        "\n",
        "# Initial drawing\n",
        "print(\"Starting position:\")\n",
        "draw_grid(x, y, grid_size)\n",
        "time.sleep(1)\n",
        "clear_output(wait=True)\n",
        "\n",
        "# Movement sequence\n",
        "movements = [(0, -1), (1, 0), (0, 1), (-1, 0)] # Up, Right, Down, Left\n",
        "\n",
        "for dx, dy in movements:\n",
        "  x += dx\n",
        "  y += dy\n",
        "  print(f\"Moving to ({x}, {y}):\")\n",
        "  draw_grid(x, y, grid_size)\n",
        "  time.sleep(1)\n",
        "  clear_output(wait=True)\n",
        "\n",
        "print(\"Final position:\")\n",
        "draw_grid(x, y, grid_size)\n"
      ]
    }
  ]
}