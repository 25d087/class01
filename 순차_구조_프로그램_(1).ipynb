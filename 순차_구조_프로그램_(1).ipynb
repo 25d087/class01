{
  "nbformat": 4,
  "nbformat_minor": 0,
  "metadata": {
    "colab": {
      "provenance": [],
      "authorship_tag": "ABX9TyPk9J+q8718TzAFDb7WCa03",
      "include_colab_link": true
    },
    "kernelspec": {
      "name": "python3",
      "display_name": "Python 3"
    },
    "language_info": {
      "name": "python"
    }
  },
  "cells": [
    {
      "cell_type": "markdown",
      "metadata": {
        "id": "view-in-github",
        "colab_type": "text"
      },
      "source": [
        "<a href=\"https://colab.research.google.com/github/25d087/class01/blob/main/%EC%88%9C%EC%B0%A8_%EA%B5%AC%EC%A1%B0_%ED%94%84%EB%A1%9C%EA%B7%B8%EB%9E%A8_(1).ipynb\" target=\"_parent\"><img src=\"https://colab.research.google.com/assets/colab-badge.svg\" alt=\"Open In Colab\"/></a>"
      ]
    },
    {
      "cell_type": "code",
      "execution_count": 27,
      "metadata": {
        "colab": {
          "base_uri": "https://localhost:8080/"
        },
        "id": "26S3JUtCRg5G",
        "outputId": "1e794e27-30f8-4d41-dd7d-9a27877f2705"
      },
      "outputs": [
        {
          "output_type": "stream",
          "name": "stdout",
          "text": [
            "안녕하세요, 저는 홍길동입니다.\n",
            "제 나이는 20살 입니다.\n",
            "10년 후 제 나이는 30살이 됩니다.\n"
          ]
        }
      ],
      "source": [
        "# prompt: 엔트리에 있는 순차 구조 프로그래밍을 코드로 바꿔서 만들어줘 코드를 설명해줘\n",
        "\n",
        "# 엔트리에서의 순차 구조는 코드가 위에서 아래로 순서대로 실행되는 것을 의미합니다.\n",
        "# 이 예제는 엔트리에서 볼 수 있는 간단한 순차 구조를 파이썬 코드로 표현한 것입니다.\n",
        "\n",
        "# 1. 변수 설정 블록 (값 정하기)\n",
        "이름 = \"홍길동\"\n",
        "나이 = 20\n",
        "\n",
        "# 2. 출력 블록 (말하기)\n",
        "print(f\"안녕하세요, 저는 {이름}입니다.\")\n",
        "\n",
        "# 3. 다른 출력 블록 (말하기)\n",
        "print(f\"제 나이는 {나이}살 입니다.\")\n",
        "\n",
        "# 4. 계산 블록 (더하기)\n",
        "미래_나이 = 나이 + 10\n",
        "\n",
        "# 5. 결과 출력\n",
        "print(f\"10년 후 제 나이는 {미래_나이}살이 됩니다.\")\n",
        "\n",
        "# 코드 설명:\n",
        "# 이 코드는 위에서부터 아래로 한 줄씩 순서대로 실행됩니다.\n",
        "# 1. '이름'과 '나이' 변수에 각각 \"홍길동\"과 20을 할당합니다.\n",
        "# 2. 첫 번째 print 함수가 실행되어 \"안녕하세요, 저는 홍길동입니다.\"를 출력합니다.\n",
        "# 3. 두 번째 print 함수가 실행되어 \"제 나이는 20살 입니다.\"를 출력합니다.\n",
        "# 4. '나이' 변수 값(20)에 10을 더하여 '미래_나이' 변수에 할당합니다.\n",
        "# 5. 마지막 print 함수가 실행되어 \"10년 후 제 나이는 30살이 됩니다.\"를 출력합니다.\n",
        "# 각 단계는 이전 단계가 완료된 후에만 시작되며, 이것이 순차 구조의 특징입니다.\n"
      ]
    }
  ]
}