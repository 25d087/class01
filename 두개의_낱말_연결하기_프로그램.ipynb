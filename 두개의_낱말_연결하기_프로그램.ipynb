{
  "nbformat": 4,
  "nbformat_minor": 0,
  "metadata": {
    "colab": {
      "provenance": [],
      "authorship_tag": "ABX9TyPAODwPyfvNCF8KFe57564G",
      "include_colab_link": true
    },
    "kernelspec": {
      "name": "python3",
      "display_name": "Python 3"
    },
    "language_info": {
      "name": "python"
    }
  },
  "cells": [
    {
      "cell_type": "markdown",
      "metadata": {
        "id": "view-in-github",
        "colab_type": "text"
      },
      "source": [
        "<a href=\"https://colab.research.google.com/github/25d087/class01/blob/main/%EB%91%90%EA%B0%9C%EC%9D%98_%EB%82%B1%EB%A7%90_%EC%97%B0%EA%B2%B0%ED%95%98%EA%B8%B0_%ED%94%84%EB%A1%9C%EA%B7%B8%EB%9E%A8.ipynb\" target=\"_parent\"><img src=\"https://colab.research.google.com/assets/colab-badge.svg\" alt=\"Open In Colab\"/></a>"
      ]
    },
    {
      "cell_type": "code",
      "execution_count": 6,
      "metadata": {
        "colab": {
          "base_uri": "https://localhost:8080/"
        },
        "id": "26S3JUtCRg5G",
        "outputId": "81f46bb9-8150-4706-d307-b5d74656cca1"
      },
      "outputs": [
        {
          "output_type": "stream",
          "name": "stdout",
          "text": [
            "이름이 뭐니? 이지효\n",
            "이지효야, 취미는 뭐야? 소설 읽기\n",
            "이지효의 취미는 소설 읽기이구나! 만나서 반가워!\n"
          ]
        }
      ],
      "source": [
        "# prompt: 엔트리에 있는 두개의 낱말 연결하기처럼 프로그램 만들어줘 코드를 설명해줘 예를 들어 이름이 뭐니? 대답을 받으면 취미나 색깔등 을 물어보면 돼 그다음 대답을 들어줘 마지막으로 결과를 말해줘\n",
        "\n",
        "# 두 개의 낱말 연결하기 프로그램\n",
        "\n",
        "def concatenate_words():\n",
        "  \"\"\"\n",
        "  사용자에게 질문하고 답변을 받아 두 단어를 연결하여 출력하는 함수\n",
        "  \"\"\"\n",
        "\n",
        "  # 첫 번째 질문\n",
        "  name = input(\"이름이 뭐니? \")\n",
        "\n",
        "  # 두 번째 질문 (이름을 바탕으로 질문 변경)\n",
        "  # 여기서는 예시로 취미를 물어보지만, 다른 질문으로 변경 가능합니다.\n",
        "  hobby = input(f\"{name}야, 취미는 뭐야? \")\n",
        "\n",
        "  # 두 답변을 연결하여 결과 출력\n",
        "  result = f\"{name}의 취미는 {hobby}이구나! 만나서 반가워!\"\n",
        "  print(result)\n",
        "\n",
        "# 함수 실행\n",
        "concatenate_words()\n"
      ]
    }
  ]
}