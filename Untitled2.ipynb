{
  "nbformat": 4,
  "nbformat_minor": 0,
  "metadata": {
    "colab": {
      "provenance": [],
      "authorship_tag": "ABX9TyMGCPfy/zLH+H6RFrwY9x+i",
      "include_colab_link": true
    },
    "kernelspec": {
      "name": "python3",
      "display_name": "Python 3"
    },
    "language_info": {
      "name": "python"
    }
  },
  "cells": [
    {
      "cell_type": "markdown",
      "metadata": {
        "id": "view-in-github",
        "colab_type": "text"
      },
      "source": [
        "<a href=\"https://colab.research.google.com/github/25d087/class01/blob/main/Untitled2.ipynb\" target=\"_parent\"><img src=\"https://colab.research.google.com/assets/colab-badge.svg\" alt=\"Open In Colab\"/></a>"
      ]
    },
    {
      "cell_type": "code",
      "execution_count": null,
      "metadata": {
        "colab": {
          "base_uri": "https://localhost:8080/"
        },
        "id": "nsisNrGqWzYk",
        "outputId": "8e6f0a0b-fe87-4f4b-8b33-16d21444c04f"
      },
      "outputs": [
        {
          "output_type": "stream",
          "name": "stdout",
          "text": [
            "35 + 16 = ?\n"
          ]
        }
      ],
      "source": [
        "# prompt: 1학년 수준에 맞게 간단한 덧셈게임 만들어줘. if, while, for을 빼고 만들어줘. 무한으로 할 수 있게 해줘 그만하고 싶을 땐 그만이라고 말하게 해줘 문제를 풀고 한번씩 \"그만 할래?\"라고 물어봐줘\n",
        "\n",
        "import random\n",
        "\n",
        "while True:\n",
        "  # 1부터 10까지의 랜덤한 숫자 두 개를 생성합니다.\n",
        "  number1 = random.randint(1, 10)\n",
        "  number2 = random.randint(1, 10)\n",
        "\n",
        "  # 문제를 출력합니다.\n",
        "  print(f\"{number1} + {number2} = ?\")\n",
        "\n",
        "  # 사용자의 답을 입력받습니다.\n",
        "  answer = input(\"답을 입력하세요: \")\n",
        "\n",
        "  # 사용자가 '그만'이라고 입력하면 반복문을 종료합니다.\n",
        "  if answer == \"그만\":\n",
        "    break\n",
        "\n",
        "  # 사용자의 답을 정수로 변환합니다.\n",
        "  try:\n",
        "      answer = int(answer)\n",
        "  except ValueError:\n",
        "      print(\"숫자를 입력해주세요!\")\n",
        "      continue\n",
        "\n",
        "  # 정답을 확인합니다.\n",
        "  if answer == number1 + number2:\n",
        "    print(\"정답입니다!\")\n",
        "  else:\n",
        "    print(f\"오답입니다. 정답은 {number1 + number2}입니다.\")\n",
        "\n",
        "  # 게임 계속 여부 확인\n",
        "  answer = input(\"그만 할래? \")\n",
        "  if answer.lower() == '그만' or answer.lower() == \"그만할래\":\n",
        "      break\n"
      ]
    }
  ]
}