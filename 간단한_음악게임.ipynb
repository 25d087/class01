{
  "cells": [
    {
      "cell_type": "markdown",
      "metadata": {
        "id": "view-in-github",
        "colab_type": "text"
      },
      "source": [
        "<a href=\"https://colab.research.google.com/github/25d087/class01/blob/main/%EA%B0%84%EB%8B%A8%ED%95%9C_%EC%9D%8C%EC%95%85%EA%B2%8C%EC%9E%84.ipynb\" target=\"_parent\"><img src=\"https://colab.research.google.com/assets/colab-badge.svg\" alt=\"Open In Colab\"/></a>"
      ]
    },
    {
      "cell_type": "code",
      "execution_count": null,
      "metadata": {
        "id": "-NhRXCr0YuCi"
      },
      "outputs": [],
      "source": []
    },
    {
      "cell_type": "code",
      "execution_count": null,
      "metadata": {
        "colab": {
          "background_save": true,
          "base_uri": "https://localhost:8080/"
        },
        "id": "YdatpVaqYDIi",
        "outputId": "7bdc0983-6a2a-4304-bab1-680afdbc6526"
      },
      "outputs": [
        {
          "name": "stdout",
          "output_type": "stream",
          "text": [
            "음악 게임 시작!\n",
            "랜덤으로 노래 제목이 주어집니다. 노래 제목을 맞춰보세요!\n",
            "\n",
            "노래 제목: Dynamite\n",
            "정답입니다! (12.97초)\n",
            "\n",
            "노래 제목: 쏘망\n",
            "정답입니다! (7.64초)\n",
            "\n",
            "노래 제목: 봄날\n"
          ]
        }
      ],
      "source": [
        "# prompt: 간단한 음악 게임 만들어줘    코드를 설명해줘\n",
        "\n",
        "import random\n",
        "import time\n",
        "\n",
        "def play_game():\n",
        "  \"\"\"간단한 음악 게임을 실행합니다.\"\"\"\n",
        "\n",
        "  print(\"음악 게임 시작!\")\n",
        "  print(\"랜덤으로 노래 제목이 주어집니다. 노래 제목을 맞춰보세요!\")\n",
        "\n",
        "  songs = {\n",
        "      \"클라씨\": \"Shut Down\",\n",
        "      \"아이브\": \"I AM\",\n",
        "      \"쏘망\": \"장산범\",\n",
        "      \"클라씨\": \"LOVE\",\n",
        "      \"I Do Me\": \"KIKI\",\n",
        "      \"봄날\": \"방탄소년단\",\n",
        "  }  # 노래 제목과 가수를 딕셔너리로 저장\n",
        "\n",
        "  score = 0  # 점수 초기화\n",
        "  num_rounds = 3 # 라운드 수 설정\n",
        "\n",
        "\n",
        "  for _ in range(num_rounds):\n",
        "      song_title = random.choice(list(songs.keys()))  # 랜덤으로 노래 제목 선택\n",
        "      artist = songs[song_title]  # 선택된 노래의 가수\n",
        "\n",
        "      print(f\"\\n노래 제목: {song_title}\")\n",
        "      start_time = time.time()  # 시작 시간 기록\n",
        "      user_answer = input(\"가수 이름을 입력하세요: \")  # 사용자 입력\n",
        "      end_time = time.time() # 종료 시간 기록\n",
        "\n",
        "      if user_answer.lower() == artist.lower():  # 대소문자 구분 없이 정답 확인\n",
        "          elapsed_time = end_time - start_time\n",
        "          score += 1 # 정답 시 점수 증가\n",
        "          print(f\"정답입니다! ({elapsed_time:.2f}초)\")\n",
        "      else:\n",
        "          print(f\"틀렸습니다. 정답은 {artist}입니다.\")\n",
        "\n",
        "\n",
        "  print(f\"\\n게임 종료! 총 점수: {score}/{num_rounds}\")\n",
        "\n",
        "\n",
        "if __name__ == \"__main__\":\n",
        "  play_game()\n"
      ]
    }
  ],
  "metadata": {
    "colab": {
      "provenance": [],
      "authorship_tag": "ABX9TyNnURgFKMjhRhkFZuvpxkHi",
      "include_colab_link": true
    },
    "kernelspec": {
      "display_name": "Python 3",
      "name": "python3"
    },
    "language_info": {
      "name": "python"
    }
  },
  "nbformat": 4,
  "nbformat_minor": 0
}