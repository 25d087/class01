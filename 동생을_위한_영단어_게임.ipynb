{
  "nbformat": 4,
  "nbformat_minor": 0,
  "metadata": {
    "colab": {
      "provenance": [],
      "authorship_tag": "ABX9TyOyrRe+mJIsbwoWjFO98cTL",
      "include_colab_link": true
    },
    "kernelspec": {
      "name": "python3",
      "display_name": "Python 3"
    },
    "language_info": {
      "name": "python"
    }
  },
  "cells": [
    {
      "cell_type": "markdown",
      "metadata": {
        "id": "view-in-github",
        "colab_type": "text"
      },
      "source": [
        "<a href=\"https://colab.research.google.com/github/25d087/class01/blob/main/%EB%8F%99%EC%83%9D%EC%9D%84_%EC%9C%84%ED%95%9C_%EC%98%81%EB%8B%A8%EC%96%B4_%EA%B2%8C%EC%9E%84.ipynb\" target=\"_parent\"><img src=\"https://colab.research.google.com/assets/colab-badge.svg\" alt=\"Open In Colab\"/></a>"
      ]
    },
    {
      "cell_type": "code",
      "execution_count": null,
      "metadata": {
        "colab": {
          "base_uri": "https://localhost:8080/"
        },
        "id": "SpqG7aMAOSSr",
        "outputId": "9b38f4f0-8b8c-427b-fe37-175f5401b387"
      },
      "outputs": [
        {
          "output_type": "stream",
          "name": "stdout",
          "text": [
            "안녕! 초등학교 1학년 영어 게임을 시작해볼까?\n",
            "\n",
            "이 영어 단어의 뜻은 무엇일까? : house\n",
            "정답을 입력해 봐: 집\n",
            "와! 정답이야! 정말 잘한다!\n",
            "더 하고 싶으면 'ㅇ'을 누르고, 그만하고 싶으면 아무 키나 누른 다음 엔터를 눌러봐: ㅇ\n",
            "\n",
            "이 영어 단어의 뜻은 무엇일까? : bird\n",
            "정답을 입력해 봐: 새\n",
            "와! 정답이야! 정말 잘한다!\n"
          ]
        }
      ],
      "source": [
        "# prompt: 초등학교 1학년 동생이 풀 수 있는 간단한 영어 게임 만들어줘 코드도 설명해줘 무한으로 할 수 있게 해줘 랜덤으로 하고, 1문제를 풀 때마다 그만할래? 그러면 스페이스바를 누르면 돼 라고 말해줘 만약 스페이스바를 눌렀으면 그만해줘    더하고 싶으면 \"ㅇ\"이라고 하게 해줘 단어를 많이 해줘\n",
        "\n",
        "import random\n",
        "\n",
        "def play_english_game():\n",
        "    \"\"\"\n",
        "    초등학교 1학년 동생을 위한 간단한 영어 게임을 플레이하는 함수입니다.\n",
        "    랜덤으로 영어 단어를 보여주고 한국어 뜻을 맞추는 게임입니다.\n",
        "    무한으로 진행되며, 한 문제를 풀 때마다 게임을 계속할지 물어봅니다.\n",
        "    \"\"\"\n",
        "\n",
        "    # 게임에 사용할 영어 단어와 한국어 뜻 리스트\n",
        "    words = {\n",
        "        \"apple\": \"사과\",\n",
        "        \"banana\": \"바나나\",\n",
        "        \"cat\": \"고양이\",\n",
        "        \"dog\": \"개\",\n",
        "        \"elephant\": \"코끼리\",\n",
        "        \"fish\": \"물고기\",\n",
        "        \"grape\": \"포도\",\n",
        "        \"house\": \"집\",\n",
        "        \"ice cream\": \"아이스크림\",\n",
        "        \"jump\": \"점프하다\",\n",
        "        \"kite\": \"연\",\n",
        "        \"lion\": \"사자\",\n",
        "        \"monkey\": \"원숭이\",\n",
        "        \"notebook\": \"공책\",\n",
        "        \"orange\": \"오렌지\",\n",
        "        \"panda\": \"판다\",\n",
        "        \"queen\": \"여왕\",\n",
        "        \"rabbit\": \"토끼\",\n",
        "        \"sun\": \"태양\",\n",
        "        \"tree\": \"나무\",\n",
        "        \"umbrella\": \"우산\",\n",
        "        \"violin\": \"바이올린\",\n",
        "        \"water\": \"물\",\n",
        "        \"xylophone\": \"실로폰\",\n",
        "        \"yellow\": \"노란색\",\n",
        "        \"zebra\": \"얼룩말\",\n",
        "        \"bird\": \"새\",\n",
        "        \"car\": \"차\",\n",
        "        \"cloud\": \"구름\",\n",
        "        \"door\": \"문\",\n",
        "        \"ear\": \"귀\",\n",
        "        \"flower\": \"꽃\",\n",
        "        \"glass\": \"유리\",\n",
        "        \"hand\": \"손\",\n",
        "        \"island\": \"섬\",\n",
        "        \"juice\": \"주스\",\n",
        "        \"king\": \"왕\",\n",
        "        \"leaf\": \"잎\",\n",
        "        \"moon\": \"달\",\n",
        "        \"nose\": \"코\",\n",
        "        \"ocean\": \"바다\",\n",
        "        \"pig\": \"돼지\",\n",
        "        \"question\": \"질문\",\n",
        "        \"robot\": \"로봇\",\n",
        "        \"star\": \"별\",\n",
        "        \"train\": \"기차\",\n",
        "        \"uniform\": \"교복\",\n",
        "        \"village\": \"마을\",\n",
        "        \"window\": \"창문\",\n",
        "        \"year\": \"년\",\n",
        "        \"zoo\": \"동물원\"\n",
        "    }\n",
        "\n",
        "    print(\"안녕! 초등학교 1학년 영어 게임을 시작해볼까?\")\n",
        "\n",
        "    while True:\n",
        "        # 단어 리스트에서 랜덤으로 단어 하나 선택\n",
        "        english_word = random.choice(list(words.keys()))\n",
        "        korean_meaning = words[english_word]\n",
        "\n",
        "        print(f\"\\n이 영어 단어의 뜻은 무엇일까? : {english_word}\")\n",
        "\n",
        "        # 사용자로부터 답 입력 받기\n",
        "        user_answer = input(\"정답을 입력해 봐: \")\n",
        "\n",
        "        # 정답 확인\n",
        "        if user_answer.lower() == korean_meaning: # 소문자로 변환하여 비교\n",
        "            print(\"와! 정답이야! 정말 잘한다!\")\n",
        "        else:\n",
        "            print(f\"아쉽지만 틀렸어. 정답은 '{korean_meaning}'이야.\")\n",
        "\n",
        "        # 게임 계속 여부 확인\n",
        "        while True: # 올바른 입력이 들어올 때까지 반복\n",
        "            keep_playing = input(\"더 하고 싶으면 'ㅇ'을 누르고, 그만하고 싶으면 아무 키나 누른 다음 엔터를 눌러봐: \")\n",
        "            if keep_playing.lower() == 'ㅇ':\n",
        "                break # 'ㅇ'을 입력하면 게임을 계속하므로 이 반복문 탈출\n",
        "            else:\n",
        "                print(\"게임을 종료합니다.\")\n",
        "                return # 'ㅇ'이 아니면 함수 종료 (게임 종료)\n",
        "\n",
        "# 게임 실행\n",
        "play_english_game()\n"
      ]
    }
  ]
}