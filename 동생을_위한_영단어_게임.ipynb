{
  "nbformat": 4,
  "nbformat_minor": 0,
  "metadata": {
    "colab": {
      "provenance": [],
      "authorship_tag": "ABX9TyOFtCysvvZg5AchT2hTMhDN",
      "include_colab_link": true
    },
    "kernelspec": {
      "name": "python3",
      "display_name": "Python 3"
    },
    "language_info": {
      "name": "python"
    }
  },
  "cells": [
    {
      "cell_type": "markdown",
      "metadata": {
        "id": "view-in-github",
        "colab_type": "text"
      },
      "source": [
        "<a href=\"https://colab.research.google.com/github/25d087/class01/blob/main/%EB%8F%99%EC%83%9D%EC%9D%84_%EC%9C%84%ED%95%9C_%EC%98%81%EB%8B%A8%EC%96%B4_%EA%B2%8C%EC%9E%84.ipynb\" target=\"_parent\"><img src=\"https://colab.research.google.com/assets/colab-badge.svg\" alt=\"Open In Colab\"/></a>"
      ]
    },
    {
      "cell_type": "code",
      "execution_count": null,
      "metadata": {
        "colab": {
          "base_uri": "https://localhost:8080/"
        },
        "id": "SpqG7aMAOSSr",
        "outputId": "44e004cd-fa7b-4771-c76b-8bb417436449"
      },
      "outputs": [
        {
          "output_type": "stream",
          "name": "stdout",
          "text": [
            "안녕! 영어 게임을 시작할 거야.\n",
            "내가 영어 단어를 말하면, 너는 한국어 뜻을 맞춰봐!\n",
            "\n",
            "이 단어의 뜻은 뭘까? 영어 단어: apple\n",
            "정답을 입력해봐: 사과\n",
            "딩동댕! 맞아!\n",
            "\n",
            "한 문제 더 풀었어! 그만할래? 스페이스바를 누르면 그만두고, 'ㅇ'을 누르면 계속해줘: ㅇ\n",
            "\n",
            "이 단어의 뜻은 뭘까? 영어 단어: cat\n",
            "정답을 입력해봐: 고양이\n",
            "딩동댕! 맞아!\n",
            "\n",
            "한 문제 더 풀었어! 그만할래? 스페이스바를 누르면 그만두고, 'ㅇ'을 누르면 계속해줘: ㅇ\n",
            "\n",
            "이 단어의 뜻은 뭘까? 영어 단어: apple\n"
          ]
        }
      ],
      "source": [
        "# prompt: 초등학교 1학년 동생이 풀 수 있는 간단한 영어 게임 만들어줘 코드도 설명해줘 무한으로 할 수 있게 해줘 랜덤으로 하고, 1문제를 풀 때마다 그만할래? 그러면 스페이스바를 누르면 돼 라고 말해줘 만약 스페이스바를 눌렀으면 그만해줘    더하고 싶으면 \"ㅇ\"이라고 하게 해줘\n",
        "\n",
        "import random\n",
        "import time\n",
        "\n",
        "def simple_english_game():\n",
        "    \"\"\"\n",
        "    Elementary school first grader can solve simple English game.\n",
        "    \"\"\"\n",
        "    print(\"안녕! 영어 게임을 시작할 거야.\")\n",
        "    print(\"내가 영어 단어를 말하면, 너는 한국어 뜻을 맞춰봐!\")\n",
        "\n",
        "    words = {\n",
        "        \"apple\": \"사과\",\n",
        "        \"banana\": \"바나나\",\n",
        "        \"cat\": \"고양이\",\n",
        "        \"dog\": \"개\",\n",
        "        \"book\": \"책\"\n",
        "    }\n",
        "\n",
        "    while True:\n",
        "        english_word, korean_meaning = random.choice(list(words.items()))\n",
        "\n",
        "        print(f\"\\n이 단어의 뜻은 뭘까? 영어 단어: {english_word}\")\n",
        "\n",
        "        # Give some time for the player to think\n",
        "        time.sleep(1)\n",
        "\n",
        "        user_answer = input(\"정답을 입력해봐: \")\n",
        "\n",
        "        if user_answer == korean_meaning:\n",
        "            print(\"딩동댕! 맞아!\")\n",
        "        else:\n",
        "            print(f\"아쉽다. 정답은 '{korean_meaning}'이었어.\")\n",
        "\n",
        "        # Ask if the player wants to continue\n",
        "        while True:\n",
        "            continue_game = input(\"\\n한 문제 더 풀었어! 그만할래? 스페이스바를 누르면 그만두고, 'ㅇ'을 누르면 계속해줘: \")\n",
        "            if continue_game == \" \":\n",
        "                print(\"게임을 종료할게. 다음에 또 만나!\")\n",
        "                return\n",
        "            elif continue_game.lower() == \"ㅇ\":\n",
        "                break  # Exit the inner loop to continue the game\n",
        "            else:\n",
        "                print(\"잘못 입력했어. 스페이스바를 누르면 그만두고, 'ㅇ'을 누르면 계속해줘.\")\n",
        "\n",
        "# Start the game\n",
        "simple_english_game()\n"
      ]
    }
  ]
}