{
  "nbformat": 4,
  "nbformat_minor": 0,
  "metadata": {
    "colab": {
      "provenance": [],
      "authorship_tag": "ABX9TyP+l6F3GTyNz5ftEkNeAJ/9",
      "include_colab_link": true
    },
    "kernelspec": {
      "name": "python3",
      "display_name": "Python 3"
    },
    "language_info": {
      "name": "python"
    }
  },
  "cells": [
    {
      "cell_type": "markdown",
      "metadata": {
        "id": "view-in-github",
        "colab_type": "text"
      },
      "source": [
        "<a href=\"https://colab.research.google.com/github/25d087/class01/blob/main/%EC%84%A0%ED%83%9D_%EA%B5%AC%EC%A1%B0_%ED%94%84%EB%A1%9C%EA%B7%B8%EB%9E%98%EB%B0%8D_(3).ipynb\" target=\"_parent\"><img src=\"https://colab.research.google.com/assets/colab-badge.svg\" alt=\"Open In Colab\"/></a>"
      ]
    },
    {
      "cell_type": "code",
      "execution_count": 15,
      "metadata": {
        "colab": {
          "base_uri": "https://localhost:8080/",
          "height": 112
        },
        "id": "ajGMyC6Lnwtd",
        "outputId": "dcadb70b-06ab-4e36-f8a8-d1ce2aecd735"
      },
      "outputs": [
        {
          "output_type": "error",
          "ename": "IndentationError",
          "evalue": "unindent does not match any outer indentation level (<tokenize>, line 8)",
          "traceback": [
            "\u001b[0;36m  File \u001b[0;32m\"<tokenize>\"\u001b[0;36m, line \u001b[0;32m8\u001b[0m\n\u001b[0;31m    +---------+\u001b[0m\n\u001b[0m    ^\u001b[0m\n\u001b[0;31mIndentationError\u001b[0m\u001b[0;31m:\u001b[0m unindent does not match any outer indentation level\n"
          ]
        }
      ],
      "source": [
        "# prompt: 선택 구조 프로그래밍의 흐름도를 그림으로 그려줘   코드를 설명해줘  한국어로 해줘\n",
        "\n",
        "+---------+\n",
        "|  시작   |\n",
        "+---------+\n",
        "          |\n",
        "          v\n",
        "      +---------+\n",
        "      |  조건   |\n",
        "      +---------+\n",
        "        /     \\\n",
        "       /       \\\n",
        "      /         \\\n",
        "    Yes         No\n",
        "    /             \\\n",
        "   v               v\n",
        "+-----------+   +-----------+\n",
        "|  참일 때   |   | 거짓일 때  |\n",
        "| 실행할 코드 |   | 실행할 코드 |\n",
        "+-----------+   +-----------+\n",
        "    \\             /\n",
        "     \\           /\n",
        "      \\         /\n",
        "       v       v\n",
        "      +---------+\n",
        "      |  끝     |\n",
        "      +---------+\n"
      ]
    }
  ]
}