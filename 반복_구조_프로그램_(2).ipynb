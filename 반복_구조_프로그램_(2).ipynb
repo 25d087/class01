{
  "nbformat": 4,
  "nbformat_minor": 0,
  "metadata": {
    "colab": {
      "provenance": [],
      "authorship_tag": "ABX9TyO3ZUcGz8NbqiwlJ9rFiL2P",
      "include_colab_link": true
    },
    "kernelspec": {
      "name": "python3",
      "display_name": "Python 3"
    },
    "language_info": {
      "name": "python"
    }
  },
  "cells": [
    {
      "cell_type": "markdown",
      "metadata": {
        "id": "view-in-github",
        "colab_type": "text"
      },
      "source": [
        "<a href=\"https://colab.research.google.com/github/25d087/class01/blob/main/%EB%B0%98%EB%B3%B5_%EA%B5%AC%EC%A1%B0_%ED%94%84%EB%A1%9C%EA%B7%B8%EB%9E%A8_(2).ipynb\" target=\"_parent\"><img src=\"https://colab.research.google.com/assets/colab-badge.svg\" alt=\"Open In Colab\"/></a>"
      ]
    },
    {
      "cell_type": "code",
      "execution_count": 31,
      "metadata": {
        "colab": {
          "base_uri": "https://localhost:8080/"
        },
        "id": "26S3JUtCRg5G",
        "outputId": "fd0301c6-9d78-4ead-b627-717ced12b9f9"
      },
      "outputs": [
        {
          "output_type": "stream",
          "name": "stdout",
          "text": [
            "Hello, World!\n",
            "Hello, World!\n",
            "Hello, World!\n",
            "Hello, World!\n",
            "Hello, World!\n",
            "Hello, World!\n",
            "Hello, World!\n",
            "Hello, World!\n",
            "Hello, World!\n",
            "Hello, World!\n"
          ]
        }
      ],
      "source": [
        "# prompt: 엔트리에 있는 반복 구조 프로그래밍을 코드로 바꿔서 만들어줘 코드를 설명해줘 간단하게 만들어줘 한국어로 변역해줘\n",
        "\n",
        "# Entry의 반복 구조를 파이썬 코드로 변환\n",
        "count = 0\n",
        "while count < 10:  # 10번 반복하는 예시 (엔트리의 '10번 반복하기' 블록과 유사)\n",
        "    print(\"Hello, World!\") # 반복할 내용\n",
        "    count += 1 # 카운트 증가\n"
      ]
    }
  ]
}