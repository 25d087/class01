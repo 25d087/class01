{
  "nbformat": 4,
  "nbformat_minor": 0,
  "metadata": {
    "colab": {
      "provenance": [],
      "authorship_tag": "ABX9TyPlg+qEnmNaVKAKloSoCMMq",
      "include_colab_link": true
    },
    "kernelspec": {
      "name": "python3",
      "display_name": "Python 3"
    },
    "language_info": {
      "name": "python"
    }
  },
  "cells": [
    {
      "cell_type": "markdown",
      "metadata": {
        "id": "view-in-github",
        "colab_type": "text"
      },
      "source": [
        "<a href=\"https://colab.research.google.com/github/25d087/class01/blob/main/%EC%84%A0%ED%83%9D_%EA%B5%AC%EC%A1%B0_%ED%94%84%EB%A1%9C%EA%B7%B8%EB%9E%98%EB%B0%8D.ipynb\" target=\"_parent\"><img src=\"https://colab.research.google.com/assets/colab-badge.svg\" alt=\"Open In Colab\"/></a>"
      ]
    },
    {
      "cell_type": "code",
      "execution_count": 4,
      "metadata": {
        "colab": {
          "base_uri": "https://localhost:8080/"
        },
        "id": "Aaffwps5bMVh",
        "outputId": "a5676495-261a-4c14-f6d3-2b980e17372c"
      },
      "outputs": [
        {
          "output_type": "stream",
          "name": "stdout",
          "text": [
            "학점: B\n",
            "성적 확인 완료\n"
          ]
        }
      ],
      "source": [
        "# prompt: 엔트리에 있는 선택 구조 프로그래밍처럼 코드를 만들어줘 코드를 한국어로 설명해줘\n",
        "\n",
        "score = 85  # 점수 변수를 정의합니다.\n",
        "\n",
        "# if 문을 사용하여 조건에 따라 다른 코드를 실행합니다.\n",
        "if score >= 90:  # 만약 점수가 90점 이상이면\n",
        "  print(\"학점: A\")  # \"학점: A\"를 출력합니다.\n",
        "elif score >= 80:  # 만약 점수가 80점 이상 90점 미만이면 (위의 조건이 거짓일 때만 이 조건 검사)\n",
        "  print(\"학점: B\")  # \"학점: B\"를 출력합니다.\n",
        "elif score >= 70:  # 만약 점수가 70점 이상 80점 미만이면\n",
        "  print(\"학점: C\")  # \"학점: C\"를 출력합니다.\n",
        "else:  # 위의 모든 조건이 거짓이면\n",
        "  print(\"학점: D\")  # \"학점: D\"를 출력합니다.\n",
        "\n",
        "print(\"성적 확인 완료\") # 조건문 실행 후 항상 출력되는 코드입니다.\n"
      ]
    }
  ]
}